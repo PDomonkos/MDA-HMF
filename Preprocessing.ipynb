{
 "cells": [
  {
   "cell_type": "markdown",
   "metadata": {},
   "source": [
    "# Association Matrix Extraction"
   ]
  },
  {
   "cell_type": "markdown",
   "metadata": {},
   "source": [
    "Import necessary data processing libraries."
   ]
  },
  {
   "cell_type": "code",
   "execution_count": 3,
   "metadata": {},
   "outputs": [],
   "source": [
    "from lxml import etree\n",
    "import pandas as pd\n",
    "import numpy as np\n",
    "import scipy"
   ]
  },
  {
   "cell_type": "markdown",
   "metadata": {},
   "source": [
    "Download and unzip the \"All Metabolites\" XML file from https://hmdb.ca/downloads.\n",
    "\n",
    "Then extract metabolite names and associated diseases based on http://www.metabolomics-forum.com/index.php?topic=1588.0, while filtering out metabolites with no known disease association."
   ]
  },
  {
   "cell_type": "code",
   "execution_count": 2,
   "metadata": {},
   "outputs": [],
   "source": [
    "hmdb_path = 'data/hmdb_metabolites.xml'\n",
    "\n",
    "namespaces = {'hmdb': 'http://www.hmdb.ca'}\n",
    "context = etree.iterparse(hmdb_path, tag='{http://www.hmdb.ca}metabolite')\n",
    "\n",
    "df_metabolites = pd.DataFrame(columns=['accession', 'name', 'disease_names'])\n",
    "disease_names = []\n",
    "for _, elem in context:\n",
    "\n",
    "  accession = elem.xpath('hmdb:accession/text()', namespaces=namespaces)[0]\n",
    "  name = elem.xpath('hmdb:name/text()', namespaces=namespaces)[0]\n",
    "  associated_diseases = elem.xpath('hmdb:diseases/hmdb:disease/hmdb:name/text()', namespaces=namespaces)\n",
    "\n",
    "  if len(associated_diseases) > 0:\n",
    "    df_metabolites.loc[len(df_metabolites)] = [accession, name, associated_diseases]\n",
    "    for d in associated_diseases:\n",
    "        if d not in disease_names:\n",
    "            disease_names.append(d)\n",
    "\n",
    "  elem.clear()\n",
    "  for ancestor in elem.xpath('ancestor-or-self::*'):\n",
    "      while ancestor.getprevious() is not None:\n",
    "          del ancestor.getparent()[0]\n",
    "del context\n",
    "\n",
    "disease_names = np.array(disease_names)"
   ]
  },
  {
   "cell_type": "markdown",
   "metadata": {},
   "source": [
    "Create the association matrix with metabolites in the rows and diseases in the columns."
   ]
  },
  {
   "cell_type": "code",
   "execution_count": 3,
   "metadata": {},
   "outputs": [],
   "source": [
    "def disease_indicator(row, disease):\n",
    "    if disease in row[\"disease_names\"]:\n",
    "        return 1\n",
    "    else:\n",
    "        return 0\n",
    "\n",
    "for disease in disease_names:\n",
    "    df_metabolites[disease] = df_metabolites.apply(disease_indicator, disease=disease, axis=1)\n",
    "\n",
    "metabolite_names = df_metabolites[\"name\"].values\n",
    "metabolite_ids = df_metabolites[\"accession\"].values\n",
    "df_metabolites = df_metabolites.set_index(\"accession\")\n",
    "df_metabolites = df_metabolites.drop(columns=['name'])\n",
    "df_metabolites = df_metabolites.drop(columns=['disease_names'])\n",
    "assert np.array_equal(df_metabolites.columns.values, disease_names)\n",
    "\n",
    "association_matrix = df_metabolites.values"
   ]
  },
  {
   "cell_type": "markdown",
   "metadata": {},
   "source": [
    "Remove the outlier disease with 20020 known associations as well as the metabolites connecting only to this particular disease."
   ]
  },
  {
   "cell_type": "code",
   "execution_count": 4,
   "metadata": {},
   "outputs": [
    {
     "name": "stdout",
     "output_type": "stream",
     "text": [
      "Removing outlier disease: 3-methylglutaconic aciduria type II, X-linked\n"
     ]
    }
   ],
   "source": [
    "print(\"Removing outlier disease: \" + disease_names[np.where(association_matrix.sum(axis=0) == 20020)[0][0]])\n",
    "\n",
    "association_matrix = association_matrix[:,np.where(association_matrix.sum(axis=0) != 20020)[0]]\n",
    "\n",
    "keep_rows = np.where(association_matrix.sum(axis=1) > 0)[0]\n",
    "association_matrix = association_matrix[keep_rows,:]\n",
    "metabolite_names = metabolite_names[keep_rows]\n",
    "metabolite_ids = metabolite_ids[keep_rows]"
   ]
  },
  {
   "cell_type": "markdown",
   "metadata": {},
   "source": [
    "Save the processed data."
   ]
  },
  {
   "cell_type": "code",
   "execution_count": 5,
   "metadata": {},
   "outputs": [
    {
     "name": "stdout",
     "output_type": "stream",
     "text": [
      "Number of metabolites: 2583\n",
      "Number of diseases: 656\n",
      "Number of associations: 7650\n",
      "Sparsity of the association matrix: 0.004514744624798164\n"
     ]
    }
   ],
   "source": [
    "scipy.sparse.save_npz(\"data/associations.npz\", scipy.sparse.csr_matrix(association_matrix))\n",
    "np.save(\"data/metabolite_ids.npy\", metabolite_ids.astype(str))\n",
    "np.save(\"data/metabolite_names.npy\", metabolite_names.astype(str))\n",
    "np.save(\"data/disease_names.npy\", disease_names)\n",
    "\n",
    "print(\"Number of metabolites: \" + str(association_matrix.shape[0]))\n",
    "print(\"Number of diseases: \" + str(association_matrix.shape[1]))\n",
    "print(\"Number of associations: \" + str(association_matrix.sum()))\n",
    "print(\"Sparsity of the association matrix: \" + str(association_matrix.sum() / (association_matrix.shape[0] * association_matrix.shape[1])))"
   ]
  }
 ],
 "metadata": {
  "kernelspec": {
   "display_name": "base",
   "language": "python",
   "name": "python3"
  },
  "language_info": {
   "codemirror_mode": {
    "name": "ipython",
    "version": 3
   },
   "file_extension": ".py",
   "mimetype": "text/x-python",
   "name": "python",
   "nbconvert_exporter": "python",
   "pygments_lexer": "ipython3",
   "version": "3.9.7"
  }
 },
 "nbformat": 4,
 "nbformat_minor": 2
}
