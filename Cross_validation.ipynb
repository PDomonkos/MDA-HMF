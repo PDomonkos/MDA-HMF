{
 "cells": [
  {
   "cell_type": "markdown",
   "metadata": {},
   "source": [
    "# Configuration Settings"
   ]
  },
  {
   "cell_type": "markdown",
   "metadata": {},
   "source": [
    "Import necessary packages, classes, and functions."
   ]
  },
  {
   "cell_type": "code",
   "execution_count": 1,
   "metadata": {},
   "outputs": [],
   "source": [
    "import numpy as np\n",
    "import scipy\n",
    "\n",
    "import torch\n",
    "import geoopt\n",
    "\n",
    "from sklearn.model_selection import KFold\n",
    "from sklearn.metrics import roc_auc_score, precision_recall_curve, auc\n",
    "\n",
    "import pickle\n",
    "\n",
    "from utils import MDADataset, ManifoldEmbedding, sample_negative_associations, unfold_association_matrix, process_batch"
   ]
  },
  {
   "cell_type": "markdown",
   "metadata": {},
   "source": [
    "Set the device to GPU if possible."
   ]
  },
  {
   "cell_type": "code",
   "execution_count": 2,
   "metadata": {},
   "outputs": [],
   "source": [
    "device = torch.device(\"cpu\") if not torch.cuda.is_available() else torch.device(\"cuda:0\")"
   ]
  },
  {
   "cell_type": "markdown",
   "metadata": {},
   "source": [
    "Fixing the random seed for reproducibility."
   ]
  },
  {
   "cell_type": "code",
   "execution_count": 3,
   "metadata": {},
   "outputs": [],
   "source": [
    "np.random.seed(42)\n",
    "torch.manual_seed(42)\n",
    "torch.cuda.manual_seed(42)"
   ]
  },
  {
   "cell_type": "markdown",
   "metadata": {},
   "source": [
    "Set double precision for the numerical stability of the Lorentz manifold."
   ]
  },
  {
   "cell_type": "code",
   "execution_count": 4,
   "metadata": {},
   "outputs": [],
   "source": [
    "torch.set_default_dtype(torch.float64)"
   ]
  },
  {
   "cell_type": "markdown",
   "metadata": {},
   "source": [
    "Ignore warnings."
   ]
  },
  {
   "cell_type": "code",
   "execution_count": 5,
   "metadata": {},
   "outputs": [],
   "source": [
    "import warnings\n",
    "warnings.filterwarnings('ignore')"
   ]
  },
  {
   "cell_type": "markdown",
   "metadata": {},
   "source": [
    "Set the cross-validation configuration."
   ]
  },
  {
   "cell_type": "code",
   "execution_count": 20,
   "metadata": {},
   "outputs": [],
   "source": [
    "num_repeats = 10\n",
    "num_splits = 5\n",
    "negative_sample_ratio = 5\n",
    "\n",
    "num_epochs = 32\n",
    "batch_size = 256\n",
    "def latent_dim_to_learning_rate(latent_dim):\n",
    "    return 0.001/(np.log2(latent_dim))\n",
    "\n",
    "config_name = \"CV_\" + str(num_repeats) + \"repeats_\" + str(num_splits) + \"splits_\" + str(negative_sample_ratio) + \"negatives_\" + str(num_epochs) + \"epochs_\" + str(batch_size) + \"batchsize_\" + \"001log2latlearningrate\""
   ]
  },
  {
   "cell_type": "markdown",
   "metadata": {},
   "source": [
    "Load the association matrix."
   ]
  },
  {
   "cell_type": "code",
   "execution_count": 7,
   "metadata": {},
   "outputs": [],
   "source": [
    "association_matrix = scipy.sparse.load_npz(\"data/associations.npz\")"
   ]
  },
  {
   "cell_type": "markdown",
   "metadata": {},
   "source": [
    "# Repeated Cross-Validation"
   ]
  },
  {
   "cell_type": "markdown",
   "metadata": {},
   "source": [
    "Define the used models and latent dimensions."
   ]
  },
  {
   "cell_type": "code",
   "execution_count": 8,
   "metadata": {},
   "outputs": [],
   "source": [
    "models = [\n",
    "    {\"name\": \"Euclidean\", \n",
    "     \"manifold\": geoopt.manifolds.Euclidean(ndim = 1),\n",
    "     \"ambient_dimension\": 0},\n",
    "    {\"name\": \"Hyperboloid\", \n",
    "     \"manifold\": geoopt.manifolds.Lorentz(k = 1.0, learnable=False),\n",
    "     \"ambient_dimension\": 1},\n",
    "]\n",
    "\n",
    "latent_dimensions = [2**i for i in range(1,13)]"
   ]
  },
  {
   "cell_type": "markdown",
   "metadata": {},
   "source": [
    "Perform the repeated cross-validation and store the AUC metrics for each repeat, fold, and epoch."
   ]
  },
  {
   "cell_type": "code",
   "execution_count": 9,
   "metadata": {},
   "outputs": [
    {
     "name": "stdout",
     "output_type": "stream",
     "text": [
      "Repeat: 1/10\n",
      "\tSplit: 1/5\n"
     ]
    },
    {
     "name": "stdout",
     "output_type": "stream",
     "text": [
      "\tSplit: 2/5\n",
      "\tSplit: 3/5\n",
      "\tSplit: 4/5\n",
      "\tSplit: 5/5\n",
      "Repeat: 2/10\n",
      "\tSplit: 1/5\n",
      "\tSplit: 2/5\n",
      "\tSplit: 3/5\n",
      "\tSplit: 4/5\n",
      "\tSplit: 5/5\n",
      "Repeat: 3/10\n",
      "\tSplit: 1/5\n",
      "\tSplit: 2/5\n",
      "\tSplit: 3/5\n",
      "\tSplit: 4/5\n",
      "\tSplit: 5/5\n",
      "Repeat: 4/10\n",
      "\tSplit: 1/5\n",
      "\tSplit: 2/5\n",
      "\tSplit: 3/5\n",
      "\tSplit: 4/5\n",
      "\tSplit: 5/5\n",
      "Repeat: 5/10\n",
      "\tSplit: 1/5\n",
      "\tSplit: 2/5\n",
      "\tSplit: 3/5\n",
      "\tSplit: 4/5\n",
      "\tSplit: 5/5\n",
      "Repeat: 6/10\n",
      "\tSplit: 1/5\n",
      "\tSplit: 2/5\n",
      "\tSplit: 3/5\n",
      "\tSplit: 4/5\n",
      "\tSplit: 5/5\n",
      "Repeat: 7/10\n",
      "\tSplit: 1/5\n",
      "\tSplit: 2/5\n",
      "\tSplit: 3/5\n",
      "\tSplit: 4/5\n",
      "\tSplit: 5/5\n",
      "Repeat: 8/10\n",
      "\tSplit: 1/5\n",
      "\tSplit: 2/5\n",
      "\tSplit: 3/5\n",
      "\tSplit: 4/5\n",
      "\tSplit: 5/5\n",
      "Repeat: 9/10\n",
      "\tSplit: 1/5\n",
      "\tSplit: 2/5\n",
      "\tSplit: 3/5\n",
      "\tSplit: 4/5\n",
      "\tSplit: 5/5\n",
      "Repeat: 10/10\n",
      "\tSplit: 1/5\n",
      "\tSplit: 2/5\n",
      "\tSplit: 3/5\n",
      "\tSplit: 4/5\n",
      "\tSplit: 5/5\n"
     ]
    }
   ],
   "source": [
    "results = {}\n",
    "for model in models:\n",
    "    results[model[\"name\"]] = {}\n",
    "    for latent_dim in latent_dimensions:\n",
    "        results[model[\"name\"]][str(latent_dim)] = {}\n",
    "        for metric in [\"ROCAUC\", \"PRAUC\"]:\n",
    "            results[model[\"name\"]][str(latent_dim)][metric] = np.zeros((num_repeats, num_splits, num_epochs))\n",
    "\n",
    "skf = KFold(n_splits=num_splits, random_state=None, shuffle = True)\n",
    "for repeat in range(num_repeats):\n",
    "    print(\"Repeat: \" + str(repeat+1) + \"/\" + str(num_repeats))\n",
    "\n",
    "    sampled_association_matrix = sample_negative_associations(association_matrix, negative_sample_ratio)\n",
    "    num_metabolites, num_diseases = sampled_association_matrix.shape\n",
    "    metabolites, diseases, associations = unfold_association_matrix(sampled_association_matrix)\n",
    "\n",
    "    for split, (train_index, test_index) in enumerate(skf.split(associations)):\n",
    "        print(\"\\tSplit: \" + str(split+1) + \"/\" + str(num_splits))\n",
    "\n",
    "        assert (np.unique(metabolites[train_index])).shape[0] == num_metabolites\n",
    "        assert (np.unique(diseases[train_index])).shape[0] == num_diseases\n",
    "\n",
    "        train_dataset = MDADataset(metabolites[train_index], diseases[train_index], associations[train_index])\n",
    "        test_dataset = MDADataset(metabolites[test_index], diseases[test_index], associations[test_index])\n",
    "        train_dataloader = torch.utils.data.DataLoader(train_dataset, batch_size=batch_size, num_workers=0, pin_memory=False, shuffle = True)\n",
    "        test_dataloader = torch.utils.data.DataLoader(test_dataset, batch_size=10000, num_workers=0, pin_memory=False, shuffle = False)\n",
    "\n",
    "        for model in models:\n",
    "            for latent_dim in latent_dimensions:\n",
    "                learning_rate = latent_dim_to_learning_rate(latent_dim)\n",
    "                \n",
    "                metabolite_embedding_module = ManifoldEmbedding(num_metabolites, latent_dim + model[\"ambient_dimension\"], model[\"manifold\"]).to(device)\n",
    "                disease_embedding_module = ManifoldEmbedding(num_diseases, latent_dim + model[\"ambient_dimension\"], model[\"manifold\"]).to(device)\n",
    "\n",
    "                optimizer = geoopt.optim.RiemannianAdam(params=list(metabolite_embedding_module.parameters())+list(disease_embedding_module.parameters()), lr=learning_rate, stabilize=1)\n",
    "\n",
    "                for epoch in range(num_epochs):\n",
    "\n",
    "                    metabolite_embedding_module.train()\n",
    "                    disease_embedding_module.train()\n",
    "                    for batch in train_dataloader:\n",
    "                        optimizer.zero_grad()\n",
    "                        predicted_association, true_association = process_batch(batch, model[\"manifold\"], device, metabolite_embedding_module, disease_embedding_module)\n",
    "                        loss = torch.nn.BCELoss(weight=torch.where(true_association<0.5, 1, negative_sample_ratio), reduction=\"mean\")(predicted_association, true_association) \n",
    "                        loss.backward()\n",
    "                        optimizer.step()\n",
    "                    \n",
    "                    metabolite_embedding_module.eval()\n",
    "                    disease_embedding_module.eval()\n",
    "                    y_preds, y_true = [], []\n",
    "                    with torch.no_grad():\n",
    "                        for batch in test_dataloader:\n",
    "                            predicted_association, true_association = process_batch(batch, model[\"manifold\"], device, metabolite_embedding_module, disease_embedding_module)\n",
    "                            y_preds.append(predicted_association.detach().cpu().numpy())\n",
    "                            y_true.append(true_association.detach().cpu().numpy())\n",
    "                        y_preds =  np.concatenate(y_preds)\n",
    "                        y_true =  np.concatenate(y_true)\n",
    "\n",
    "                        results[model[\"name\"]][str(latent_dim)][\"ROCAUC\"][repeat,split,epoch] = roc_auc_score(y_true = y_true, y_score = y_preds)\n",
    "                        precision, recall, _ = precision_recall_curve(y_true = y_true, probas_pred = y_preds)\n",
    "                        results[model[\"name\"]][str(latent_dim)][\"PRAUC\"][repeat,split,epoch]  = auc(recall, precision)"
   ]
  },
  {
   "cell_type": "markdown",
   "metadata": {},
   "source": [
    "Save the results."
   ]
  },
  {
   "cell_type": "code",
   "execution_count": 10,
   "metadata": {},
   "outputs": [],
   "source": [
    "with open('results/' + config_name + '.pkl', 'wb') as fp:\n",
    "        pickle.dump(results, fp, protocol=pickle.HIGHEST_PROTOCOL)"
   ]
  },
  {
   "cell_type": "markdown",
   "metadata": {},
   "source": [
    "# Result Visualization"
   ]
  },
  {
   "cell_type": "markdown",
   "metadata": {},
   "source": [
    "Import necessary plotting libraries."
   ]
  },
  {
   "cell_type": "code",
   "execution_count": 11,
   "metadata": {},
   "outputs": [],
   "source": [
    "import pandas as pd\n",
    "import seaborn as sns\n",
    "from matplotlib import pyplot as plt"
   ]
  },
  {
   "cell_type": "markdown",
   "metadata": {},
   "source": [
    "Load the results into a data frame."
   ]
  },
  {
   "cell_type": "code",
   "execution_count": 21,
   "metadata": {},
   "outputs": [],
   "source": [
    "with open('results/' + config_name + '.pkl', 'rb') as fp:\n",
    "    results = pickle.load(fp)\n",
    "\n",
    "df_results = pd.DataFrame(columns = [\"Model\", \"Latent dimension\", \"Metric\", \"Epoch\", \"value\"])\n",
    "for model, model_dict in results.items():\n",
    "    for latent_dim, latent_dict in model_dict.items():\n",
    "        for metric, metrics in latent_dict.items():\n",
    "            for epoch in range(metrics.shape[-1]):\n",
    "                for value in metrics[:,:,epoch].flatten():\n",
    "                    df_results.loc[len(df_results.index)] = [model, int(latent_dim), metric, epoch+1, value] "
   ]
  },
  {
   "cell_type": "markdown",
   "metadata": {},
   "source": [
    "Create and save Figure 1.a: Plot the cross-validation results using a separate box plot for each manifold type and latent dimension."
   ]
  },
  {
   "cell_type": "code",
   "execution_count": 22,
   "metadata": {},
   "outputs": [
    {
     "name": "stderr",
     "output_type": "stream",
     "text": [
      "The PostScript backend does not support transparency; partially transparent artists will be rendered opaque.\n"
     ]
    },
    {
     "data": {
      "image/png": "[encoded data removed]",
      "text/plain": [
       "<Figure size 576x576 with 2 Axes>"
      ]
     },
     "metadata": {
      "needs_background": "light"
     },
     "output_type": "display_data"
    }
   ],
   "source": [
    "metrics = [\"ROCAUC\", \"PRAUC\"]\n",
    "\n",
    "fig, axes = plt.subplots(len(metrics), 1, figsize=(8, len(metrics)*4), sharey=False)\n",
    "\n",
    "for i, metric in enumerate(metrics):\n",
    "    ax = axes[i]\n",
    "\n",
    "    sns.boxplot(data = df_results[(df_results[\"Metric\"] == metric) & (df_results[\"Epoch\"] == num_epochs)], \n",
    "                x = \"Latent dimension\", y = \"value\", hue = \"Model\", palette = \"Paired\", saturation=1.00, ax=ax)\n",
    "    ax.axvline(5.5, color = \"black\", alpha = 0.75, linewidth=1.00)\n",
    "    ax.axvline(6.5, color = \"black\", alpha = 0.75, linewidth=1.00)\n",
    "\n",
    "    ax.spines[['top', 'right']].set_visible(False)\n",
    "    ax.set_xlabel(\"\")\n",
    "    ax.set_ylabel(\"\")\n",
    "\n",
    "    if i == 0:\n",
    "        ax.set_title(\"(A)\", fontsize=24)\n",
    "        ax.get_legend().remove()\n",
    "    else:\n",
    "        ax.legend(fontsize=\"20\", loc =\"lower right\")\n",
    "\n",
    "    if i == len(metrics) - 1:\n",
    "        for tick in ax.xaxis.get_major_ticks():\n",
    "            tick.label.set_fontsize(14) \n",
    "            tick.label.set_rotation('horizontal')\n",
    "        ax.set_xlabel(\"Latent dimension (log scale)\", fontsize=20)\n",
    "    else:\n",
    "        ax.set_xticks([])\n",
    "        \n",
    "    for tick in ax.yaxis.get_major_ticks():\n",
    "        tick.label.set_fontsize(14) \n",
    "    ax.set_ylabel(metric, fontsize=20)\n",
    "    ax.yaxis.set_label_coords(-0.08, 0.5)\n",
    "\n",
    "plt.tight_layout()\n",
    "plt.savefig('results/Fig1a.jpg', dpi = 300)\n",
    "plt.savefig('results/Fig1a.eps', dpi = 300)\n",
    "plt.show()"
   ]
  },
  {
   "cell_type": "markdown",
   "metadata": {},
   "source": [
    "Create and save Figure 1.b: Plot the learning curve of models with a given latent dimension."
   ]
  },
  {
   "cell_type": "code",
   "execution_count": 23,
   "metadata": {},
   "outputs": [
    {
     "name": "stderr",
     "output_type": "stream",
     "text": [
      "The PostScript backend does not support transparency; partially transparent artists will be rendered opaque.\n"
     ]
    },
    {
     "data": {
      "image/png": "[encoded data removed]",
      "text/plain": [
       "<Figure size 576x576 with 2 Axes>"
      ]
     },
     "metadata": {
      "needs_background": "light"
     },
     "output_type": "display_data"
    }
   ],
   "source": [
    "latent_dim = 128\n",
    "metrics = [\"ROCAUC\", \"PRAUC\"]\n",
    "\n",
    "fig, axes = plt.subplots(len(metrics), 1, figsize=(8, len(metrics)*4), sharey=False)\n",
    "\n",
    "for i, metric in enumerate(metrics):\n",
    "    ax = axes[i]\n",
    "\n",
    "    sns.boxplot(data = df_results[(df_results[\"Metric\"] == metric) & (df_results[\"Latent dimension\"] == latent_dim)], \n",
    "                x = \"Epoch\", y = \"value\", hue = \"Model\", palette = \"Paired\", saturation=1.00, ax=ax)\n",
    "    \n",
    "    ax.spines[['top', 'right']].set_visible(False)\n",
    "    ax.set_xlabel(\"\")\n",
    "    ax.set_ylabel(\"\")\n",
    "\n",
    "    if i == 0:\n",
    "        ax.set_title(\"(B)\", fontsize=24)\n",
    "        ax.get_legend().remove()\n",
    "    else:\n",
    "        ax.legend(fontsize=\"20\", loc =\"lower right\")\n",
    "\n",
    "    if i == len(metrics) - 1:\n",
    "        for tick in ax.xaxis.get_major_ticks():\n",
    "            tick.label.set_fontsize(14) \n",
    "            tick.label.set_rotation('horizontal')\n",
    "        for label in ax.xaxis.get_ticklabels()[::2]:\n",
    "            label.set_visible(False)\n",
    "        ax.set_xlabel(\"Epoch\", fontsize=20)\n",
    "    else:\n",
    "        ax.set_xticks([])\n",
    "        \n",
    "    for tick in ax.yaxis.get_major_ticks():\n",
    "        tick.label.set_fontsize(14) \n",
    "    ax.set_ylabel(metric, fontsize=20)\n",
    "    ax.yaxis.set_label_coords(-0.08, 0.5)\n",
    "\n",
    "plt.tight_layout()\n",
    "plt.savefig('results/Fig1b.jpg', dpi = 300)\n",
    "plt.savefig('results/Fig1b.eps', dpi = 300)\n",
    "plt.show()"
   ]
  }
 ],
 "metadata": {
  "kernelspec": {
   "display_name": "base",
   "language": "python",
   "name": "python3"
  },
  "language_info": {
   "codemirror_mode": {
    "name": "ipython",
    "version": 3
   },
   "file_extension": ".py",
   "mimetype": "text/x-python",
   "name": "python",
   "nbconvert_exporter": "python",
   "pygments_lexer": "ipython3",
   "version": "3.9.7"
  }
 },
 "nbformat": 4,
 "nbformat_minor": 2
}
